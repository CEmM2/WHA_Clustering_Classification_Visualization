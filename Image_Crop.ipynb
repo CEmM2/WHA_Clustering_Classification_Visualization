{
 "cells": [
  {
   "cell_type": "code",
   "execution_count": null,
   "metadata": {},
   "outputs": [],
   "source": [
    "import os\n",
    "from PIL import Image\n",
    "\n",
    "\n",
    "\n",
    "ROOT_DIR = os.getcwd()\n",
    "input_dir = os.path.join(ROOT_DIR, \"Datasets\\Image_test\")\n",
    "dirs = os.listdir(input_dir)\n",
    "\n",
    "out_rows = 224\n",
    "out_cols = 224\n",
    "for item in dirs:\n",
    "        fullpath = os.path.join(input_dir,item) \n",
    "        if os.path.isfile(fullpath):\n",
    "\n",
    "            im_rgba = Image.open(fullpath)\n",
    "            img = im_rgba.convert('RGB')\n",
    "            f, e = os.path.split(fullpath)\n",
    "            c,r = img.size\n",
    "                                   \n",
    "            # Remove the SEM legends\n",
    "            im = img.crop((0,0,c,r-490)) \n",
    "            \n",
    "            c,r = im.size\n",
    "            \n",
    "            k_r = round(r/out_rows)\n",
    "            k_c = round(c/out_cols)\n",
    "            k = 1\n",
    "            for i in range(k_r):\n",
    "                for j in range(k_c):\n",
    "                    imCrop = im.crop((j*out_cols,i*out_rows , (j + 1)*out_cols, (i + 1)*out_cols)) \n",
    "                    outpath = os.path.join(input_dir,\"cropped_images\" )\n",
    "                    imCrop.save(outpath  + \"\\{}_{}.jpg\".format(e[:-4],k), quality=100)\n",
    "                    k+=1"
   ]
  }
 ],
 "metadata": {
  "kernelspec": {
   "display_name": "Python 3",
   "language": "python",
   "name": "python3"
  },
  "language_info": {
   "codemirror_mode": {
    "name": "ipython",
    "version": 3
   },
   "file_extension": ".py",
   "mimetype": "text/x-python",
   "name": "python",
   "nbconvert_exporter": "python",
   "pygments_lexer": "ipython3",
   "version": "3.6.9"
  }
 },
 "nbformat": 4,
 "nbformat_minor": 2
}
